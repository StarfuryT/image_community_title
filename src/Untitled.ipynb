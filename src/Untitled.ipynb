{
 "cells": [
  {
   "cell_type": "code",
   "execution_count": 1,
   "id": "cdc1f39c",
   "metadata": {},
   "outputs": [
    {
     "name": "stderr",
     "output_type": "stream",
     "text": [
      "/home/starfury/projects/llm_projects/venv_llm/lib/python3.10/site-packages/tqdm/auto.py:21: TqdmWarning: IProgress not found. Please update jupyter and ipywidgets. See https://ipywidgets.readthedocs.io/en/stable/user_install.html\n",
      "  from .autonotebook import tqdm as notebook_tqdm\n"
     ]
    }
   ],
   "source": [
    "import streamlit as st\n",
    "from utils import get_caption, generate_titles"
   ]
  },
  {
   "cell_type": "code",
   "execution_count": 6,
   "id": "56e1fa20",
   "metadata": {},
   "outputs": [],
   "source": [
    "st.set_page_config(page_title=\"Image group title\", page_icon=\"\\U0001F642\")\n",
    "st.header(\"Title ideas for a group of images.\")\n",
    "images = st.file_uploader(\n",
    "    \"Upload up to four images:\", type=\"jpg\", accept_multiple_files=True\n",
    ")\n",
    "\n",
    "all_captions = \"\"\n",
    "all_img_names = []"
   ]
  },
  {
   "cell_type": "code",
   "execution_count": 4,
   "id": "63bc0bb9",
   "metadata": {},
   "outputs": [
    {
     "name": "stdout",
     "output_type": "stream",
     "text": [
      "\u001b[0m\n",
      "\u001b[34m\u001b[1m  You can now view your Streamlit app in your browser.\u001b[0m\n",
      "\u001b[0m\n",
      "\u001b[34m  Local URL: \u001b[0m\u001b[1mhttp://localhost:8501\u001b[0m\n",
      "\u001b[34m  Network URL: \u001b[0m\u001b[1mhttp://172.18.162.104:8501\u001b[0m\n",
      "\u001b[0m\n",
      "[IPKernelApp] ERROR | Unable to initialize signal:\n",
      "Traceback (most recent call last):\n",
      "  File \"/home/starfury/projects/llm_projects/venv_llm/lib/python3.10/site-packages/ipykernel/kernelapp.py\", line 699, in initialize\n",
      "    self.init_signal()\n",
      "  File \"/home/starfury/projects/llm_projects/venv_llm/lib/python3.10/site-packages/ipykernel/kernelapp.py\", line 543, in init_signal\n",
      "    signal.signal(signal.SIGINT, signal.SIG_IGN)\n",
      "  File \"/usr/lib/python3.10/signal.py\", line 56, in signal\n",
      "    handler = _signal.signal(_enum_to_int(signalnum), _enum_to_int(handler))\n",
      "ValueError: signal only works in main thread of the main interpreter\n",
      "^C\n"
     ]
    }
   ],
   "source": [
    "!streamlit run /home/starfury/projects/llm_projects/venv_llm/lib/python3.10/site-packages/ipykernel_launcher.py"
   ]
  },
  {
   "cell_type": "code",
   "execution_count": null,
   "id": "b50efbf2",
   "metadata": {},
   "outputs": [],
   "source": []
  }
 ],
 "metadata": {
  "kernelspec": {
   "display_name": "venv_llm",
   "language": "python",
   "name": "venv_llm"
  },
  "language_info": {
   "codemirror_mode": {
    "name": "ipython",
    "version": 3
   },
   "file_extension": ".py",
   "mimetype": "text/x-python",
   "name": "python",
   "nbconvert_exporter": "python",
   "pygments_lexer": "ipython3",
   "version": "3.10.12"
  }
 },
 "nbformat": 4,
 "nbformat_minor": 5
}
